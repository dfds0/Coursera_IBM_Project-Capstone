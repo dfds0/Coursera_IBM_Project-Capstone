{
    "nbformat_minor": 1, 
    "cells": [
        {
            "source": "# Notebook dedicated to the Coursera Capstone project", 
            "cell_type": "markdown", 
            "metadata": {
                "collapsed": true
            }
        }, 
        {
            "execution_count": 1, 
            "cell_type": "code", 
            "metadata": {}, 
            "outputs": [
                {
                    "output_type": "stream", 
                    "name": "stdout", 
                    "text": "Hello Capstone Project Course!\n"
                }
            ], 
            "source": "import pandas as pd\nimport numpy as np\n\nprint(\"Hello Capstone Project Course!\")"
        }, 
        {
            "execution_count": null, 
            "cell_type": "code", 
            "metadata": {}, 
            "outputs": [], 
            "source": ""
        }, 
        {
            "execution_count": null, 
            "cell_type": "code", 
            "metadata": {}, 
            "outputs": [], 
            "source": ""
        }, 
        {
            "source": "# Segmenting and Clustering Neighborhoods in Toronto", 
            "cell_type": "markdown", 
            "metadata": {}
        }, 
        {
            "execution_count": 10, 
            "cell_type": "code", 
            "metadata": {}, 
            "outputs": [
                {
                    "execution_count": 10, 
                    "metadata": {}, 
                    "data": {
                        "text/html": "<div>\n<style scoped>\n    .dataframe tbody tr th:only-of-type {\n        vertical-align: middle;\n    }\n\n    .dataframe tbody tr th {\n        vertical-align: top;\n    }\n\n    .dataframe thead th {\n        text-align: right;\n    }\n</style>\n<table border=\"1\" class=\"dataframe\">\n  <thead>\n    <tr style=\"text-align: right;\">\n      <th></th>\n      <th>PostalCode</th>\n      <th>Borough</th>\n      <th>Neighborhood</th>\n    </tr>\n  </thead>\n  <tbody>\n    <tr>\n      <th>0</th>\n      <td>M3A</td>\n      <td>North York</td>\n      <td>Parkwoods</td>\n    </tr>\n    <tr>\n      <th>1</th>\n      <td>M4A</td>\n      <td>North York</td>\n      <td>Victoria Village</td>\n    </tr>\n    <tr>\n      <th>2</th>\n      <td>M5A</td>\n      <td>Downtown Toronto</td>\n      <td>Harbourfront</td>\n    </tr>\n    <tr>\n      <th>3</th>\n      <td>M5A</td>\n      <td>Downtown Toronto</td>\n      <td>Regent Park</td>\n    </tr>\n    <tr>\n      <th>4</th>\n      <td>M6A</td>\n      <td>North York</td>\n      <td>Lawrence Heights</td>\n    </tr>\n  </tbody>\n</table>\n</div>", 
                        "text/plain": "  PostalCode           Borough      Neighborhood\n0        M3A        North York         Parkwoods\n1        M4A        North York  Victoria Village\n2        M5A  Downtown Toronto      Harbourfront\n3        M5A  Downtown Toronto       Regent Park\n4        M6A        North York  Lawrence Heights"
                    }, 
                    "output_type": "execute_result"
                }
            ], 
            "source": "import requests\nimport lxml.html as lh\n\nurl='https://en.wikipedia.org/wiki/List_of_postal_codes_of_Canada:_M'\n\npage = requests.get(url)\ndoc = lh.fromstring(page.content)\n\n#Parse data that are stored between <tr>..</tr> of HTML\ntr_elements = doc.xpath('//tr')\n\ncolumn_names = ['PostalCode', 'Borough', 'Neighborhood'] \nneighborhoods = pd.DataFrame(columns=column_names)\n\n\nfor index in range(1,len(tr_elements)):\n    row = tr_elements[index]\n    \n    if \"Canadian postal codes\" not in row.text_content():\n        cell_index = 0\n        postcode = \"\"\n        borough = \"\"\n        neighborhood = \"\"\n        for cell in row.iterchildren():\n            content = cell.text_content()\n            \n            if cell_index == 0:\n                postcode = content\n                \n            elif cell_index == 1:\n                borough = content\n                \n            elif cell_index == 2:\n                neighborhood = content\n            cell_index += 1\n            \n        if \"Not assigned\" not in borough:\n            if \"Not assigned\" in neighborhood:\n                neighborhood = borough\n            neighborhood = neighborhood.replace(\"\\n\",\"\")\n            \n            neighborhoods = neighborhoods.append({'PostalCode': postcode, 'Borough': borough, 'Neighborhood': neighborhood}, ignore_index=True)\n            \n    else:\n        break\n    \nneighborhoods.head()"
        }, 
        {
            "execution_count": 11, 
            "cell_type": "code", 
            "metadata": {}, 
            "outputs": [
                {
                    "execution_count": 11, 
                    "metadata": {}, 
                    "data": {
                        "text/plain": "(212, 3)"
                    }, 
                    "output_type": "execute_result"
                }
            ], 
            "source": "neighborhoods.shape"
        }, 
        {
            "execution_count": 13, 
            "cell_type": "code", 
            "metadata": {}, 
            "outputs": [
                {
                    "execution_count": 13, 
                    "metadata": {}, 
                    "data": {
                        "text/plain": "PostalCode  Borough         \n                                                                                 \nM1B         Scarborough                                            Rouge, Malvern\nM1C         Scarborough                    Highland Creek, Rouge Hill, Port Union\nM1E         Scarborough                         Guildwood, Morningside, West Hill\nM1G         Scarborough                                                    Woburn\nM1H         Scarborough                                                 Cedarbrae\nM1J         Scarborough                                       Scarborough Village\nM1K         Scarborough               East Birchmount Park, Ionview, Kennedy Park\nM1L         Scarborough                           Clairlea, Golden Mile, Oakridge\nM1M         Scarborough           Cliffcrest, Cliffside, Scarborough Village West\nM1N         Scarborough                               Birch Cliff, Cliffside West\nM1P         Scarborough         Dorset Park, Scarborough Town Centre, Wexford ...\nM1R         Scarborough                                         Maryvale, Wexford\nM1S         Scarborough                                                 Agincourt\nM1T         Scarborough                   Clarks Corners, Sullivan, Tam O'Shanter\nM1V         Scarborough         Agincourt North, L'Amoreaux East, Milliken, St...\nM1W         Scarborough                                           L'Amoreaux West\nM1X         Scarborough                                               Upper Rouge\nM2H         North York                                          Hillcrest Village\nM2J         North York                               Fairview, Henry Farm, Oriole\nM2K         North York                                            Bayview Village\nM2L         North York                                   Silver Hills, York Mills\nM2M         North York                                    Newtonbrook, Willowdale\nM2N         North York                                           Willowdale South\nM2P         North York                                            York Mills West\nM2R         North York                                            Willowdale West\nM3A         North York                                                  Parkwoods\nM3B         North York                                            Don Mills North\nM3C         North York                           Flemingdon Park, Don Mills South\nM3H         North York            Bathurst Manor, Downsview North, Wilson Heights\n                                                      ...                        \nM6C         York                                               Humewood-Cedarvale\nM6E         York                                              Caledonia-Fairbanks\nM6G         Downtown Toronto                                             Christie\nM6H         West Toronto                             Dovercourt Village, Dufferin\nM6J         West Toronto                                 Little Portugal, Trinity\nM6K         West Toronto             Brockton, Exhibition Place, Parkdale Village\nM6L         North York                         Downsview, North Park, Upwood Park\nM6M         York                   Del Ray, Keelesdale, Mount Dennis, Silverthorn\nM6N         York                                    The Junction North, Runnymede\nM6P         West Toronto                            High Park, The Junction South\nM6R         West Toronto                                   Parkdale, Roncesvalles\nM6S         West Toronto                                       Runnymede, Swansea\nM7A         Queen's Park                                             Queen's Park\nM7R         Mississauga                     Canada Post Gateway Processing Centre\nM7Y         East Toronto        Business Reply Mail Processing Centre 969 Eastern\nM8V         Etobicoke                Humber Bay Shores, Mimico South, New Toronto\nM8W         Etobicoke                                      Alderwood, Long Branch\nM8X         Etobicoke               The Kingsway, Montgomery Road, Old Mill North\nM8Y         Etobicoke           Humber Bay, King's Mill Park, Kingsway Park So...\nM8Z         Etobicoke           Kingsway Park South West, Mimico NW, The Queen...\nM9A         Etobicoke                                            Islington Avenue\nM9B         Etobicoke           Cloverdale, Islington, Martin Grove, Princess ...\nM9C         Etobicoke           Bloordale Gardens, Eringate, Markland Wood, Ol...\nM9L         North York                                              Humber Summit\nM9M         North York                                           Emery, Humberlea\nM9N         York                                                           Weston\nM9P         Etobicoke                                                   Westmount\nM9R         Etobicoke           Kingsview Village, Martin Grove Gardens, Richv...\nM9V         Etobicoke           Albion Gardens, Beaumond Heights, Humbergate, ...\nM9W         Etobicoke                                                   Northwest\nName: Neighborhood, Length: 104, dtype: object"
                    }, 
                    "output_type": "execute_result"
                }
            ], 
            "source": "new = neighborhoods.groupby(['PostalCode', 'Borough'])['Neighborhood'].agg(lambda col: ', '.join(col))\nnew"
        }, 
        {
            "execution_count": 14, 
            "cell_type": "code", 
            "metadata": {}, 
            "outputs": [
                {
                    "execution_count": 14, 
                    "metadata": {}, 
                    "data": {
                        "text/plain": "(104,)"
                    }, 
                    "output_type": "execute_result"
                }
            ], 
            "source": "new.shape"
        }, 
        {
            "execution_count": null, 
            "cell_type": "code", 
            "metadata": {}, 
            "outputs": [], 
            "source": ""
        }
    ], 
    "metadata": {
        "kernelspec": {
            "display_name": "Python 3.6", 
            "name": "python3", 
            "language": "python"
        }, 
        "language_info": {
            "mimetype": "text/x-python", 
            "nbconvert_exporter": "python", 
            "version": "3.6.8", 
            "name": "python", 
            "file_extension": ".py", 
            "pygments_lexer": "ipython3", 
            "codemirror_mode": {
                "version": 3, 
                "name": "ipython"
            }
        }
    }, 
    "nbformat": 4
}